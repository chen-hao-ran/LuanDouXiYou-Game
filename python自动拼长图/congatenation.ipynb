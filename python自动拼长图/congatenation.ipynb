{
 "cells": [
  {
   "cell_type": "code",
   "execution_count": 2,
   "metadata": {},
   "outputs": [
    {
     "name": "stdout",
     "output_type": "stream",
     "text": [
      "Requirement already satisfied: Pillow in d:\\anaconda\\anaconda3\\envs\\3dcv_common\\lib\\site-packages (10.3.0)\n"
     ]
    }
   ],
   "source": [
    "! pip install Pillow"
   ]
  },
  {
   "cell_type": "markdown",
   "metadata": {},
   "source": [
    "## 人物拼接"
   ]
  },
  {
   "cell_type": "code",
   "execution_count": 1,
   "metadata": {},
   "outputs": [],
   "source": [
    "from PIL import Image\n",
    "\n",
    "#图片路径\n",
    "common_path = \"injuried\"\n",
    "\n",
    "image_paths1 = []\n",
    "for i in range(1):\n",
    "    if i < 9:\n",
    "        image_paths1.append(\"Sun/injuried/raw/\" + common_path + \"_left000\" + str(i + 1) + \".bmp\")\n",
    "    else:\n",
    "        image_paths1.append(\"Sun/injuried/raw/\" + common_path + \"_left00\" + str(i + 1) + \".bmp\")\n",
    "\n",
    "image_paths2 = []\n",
    "for i in range(1):\n",
    "    if i < 9:\n",
    "        image_paths2.append(\"Sun/injuried/raw/\" + common_path + \"_right000\" + str(i + 1) + \".bmp\")\n",
    "    else:\n",
    "        image_paths2.append(\"moguguai/injuried/raw/\" + common_path + \"_right00\" + str(i + 1) + \".bmp\")\n",
    "\n",
    "# 打开第一张图片，获取图片大小\n",
    "first_image = Image.open(image_paths1[0])\n",
    "width, height = first_image.size\n",
    "\n",
    "# 创建一张新图片，宽度为10张图片的宽度，高度为一张图片的高度\n",
    "new_image = Image.new('RGB', (width * 1, height * 2))\n",
    "\n",
    "# 将10张图片逐个拼接到新图片上\n",
    "for i, image_path in enumerate(image_paths1):\n",
    "    image = Image.open(image_path)\n",
    "    new_image.paste(image, (i * width, 0))\n",
    "\n",
    "for i, image_path in enumerate(image_paths2):\n",
    "    image = Image.open(image_path)\n",
    "    new_image.paste(image, (i * width, height))\n",
    "\n",
    "# 保存拼接后的图片\n",
    "new_image.save(\"moguguai/injuried/processed/\" + common_path + \".bmp\")"
   ]
  },
  {
   "cell_type": "code",
   "execution_count": null,
   "metadata": {},
   "outputs": [],
   "source": []
  },
  {
   "cell_type": "markdown",
   "metadata": {},
   "source": [
    "## 场景拼接"
   ]
  },
  {
   "cell_type": "code",
   "execution_count": 6,
   "metadata": {},
   "outputs": [],
   "source": [
    "from PIL import Image\n",
    "\n",
    "#图片路径\n",
    "common_path = \"attack\"\n",
    "\n",
    "image_paths = []\n",
    "for i in range(3):\n",
    "    if i < 9:\n",
    "        image_paths.append(\"scene/raw/scene000\" + str(i + 1) + \".bmp\")\n",
    "    else:\n",
    "        image_paths.append(\"scene/raw/scene00\" + str(i + 1) + \".bmp\")\n",
    "\n",
    "# 将10张图片逐个拼接到新图片上\n",
    "for i, image_path in enumerate(image_paths):\n",
    "    image = Image.open(image_path)\n",
    "    width, height = image.size\n",
    "    new_image = Image.new('RGB', (width * 3, height))\n",
    "    for j in range(3):\n",
    "        new_image.paste(image, (j * width, 0))\n",
    "    if (i < 9):\n",
    "        new_image.save(\"scene/processed/scene000\"+ str(i + 1) + \".bmp\")\n",
    "    else:\n",
    "        new_image.save(\"scene/processed/scene00\"+ str(i + 1) + \".bmp\")"
   ]
  }
 ],
 "metadata": {
  "kernelspec": {
   "display_name": "3dcv_common",
   "language": "python",
   "name": "python3"
  },
  "language_info": {
   "codemirror_mode": {
    "name": "ipython",
    "version": 3
   },
   "file_extension": ".py",
   "mimetype": "text/x-python",
   "name": "python",
   "nbconvert_exporter": "python",
   "pygments_lexer": "ipython3",
   "version": "3.11.9"
  }
 },
 "nbformat": 4,
 "nbformat_minor": 2
}
